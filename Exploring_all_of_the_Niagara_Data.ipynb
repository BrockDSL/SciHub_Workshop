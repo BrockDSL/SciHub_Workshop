{
 "cells": [
  {
   "cell_type": "markdown",
   "metadata": {},
   "source": [
    "# Exploring all of the Niagara Data\n",
    "\n",
    "We looked just at St. Catharines data, let's take a look at all of the data now."
   ]
  },
  {
   "cell_type": "code",
   "execution_count": 2,
   "metadata": {
    "scrolled": true
   },
   "outputs": [
    {
     "data": {
      "text/html": [
       "<div>\n",
       "<style scoped>\n",
       "    .dataframe tbody tr th:only-of-type {\n",
       "        vertical-align: middle;\n",
       "    }\n",
       "\n",
       "    .dataframe tbody tr th {\n",
       "        vertical-align: top;\n",
       "    }\n",
       "\n",
       "    .dataframe thead th {\n",
       "        text-align: right;\n",
       "    }\n",
       "</style>\n",
       "<table border=\"1\" class=\"dataframe\">\n",
       "  <thead>\n",
       "    <tr style=\"text-align: right;\">\n",
       "      <th></th>\n",
       "      <th>date</th>\n",
       "      <th>doi</th>\n",
       "      <th>Pub_code</th>\n",
       "      <th>User_code</th>\n",
       "      <th>country</th>\n",
       "      <th>city</th>\n",
       "      <th>lat</th>\n",
       "      <th>long</th>\n",
       "    </tr>\n",
       "  </thead>\n",
       "  <tbody>\n",
       "    <tr>\n",
       "      <th>1046</th>\n",
       "      <td>2017-01-01 11:12:43</td>\n",
       "      <td>10.1093/jmedent/35.1.71</td>\n",
       "      <td>18048</td>\n",
       "      <td>25846</td>\n",
       "      <td>Canada</td>\n",
       "      <td>Saint Catharines</td>\n",
       "      <td>43.159374</td>\n",
       "      <td>-79.246863</td>\n",
       "    </tr>\n",
       "    <tr>\n",
       "      <th>1047</th>\n",
       "      <td>2017-01-01 12:15:09</td>\n",
       "      <td>10.1089/vbz.2004.4.190</td>\n",
       "      <td>18048</td>\n",
       "      <td>25846</td>\n",
       "      <td>Canada</td>\n",
       "      <td>Saint Catharines</td>\n",
       "      <td>43.159374</td>\n",
       "      <td>-79.246863</td>\n",
       "    </tr>\n",
       "    <tr>\n",
       "      <th>1048</th>\n",
       "      <td>2017-01-01 16:22:15</td>\n",
       "      <td>10.1111/j.1365-2915.2011.00962.x</td>\n",
       "      <td>18048</td>\n",
       "      <td>25846</td>\n",
       "      <td>Canada</td>\n",
       "      <td>Saint Catharines</td>\n",
       "      <td>43.159374</td>\n",
       "      <td>-79.246863</td>\n",
       "    </tr>\n",
       "    <tr>\n",
       "      <th>1049</th>\n",
       "      <td>2017-01-01 18:53:48</td>\n",
       "      <td>10.1177/1087057108319864</td>\n",
       "      <td>39529</td>\n",
       "      <td>57891</td>\n",
       "      <td>Canada</td>\n",
       "      <td>Saint Catharines</td>\n",
       "      <td>43.159374</td>\n",
       "      <td>-79.246863</td>\n",
       "    </tr>\n",
       "    <tr>\n",
       "      <th>1050</th>\n",
       "      <td>2017-01-02 19:37:36</td>\n",
       "      <td>10.1046/j.1601-6335.2003.00268.x</td>\n",
       "      <td>115799</td>\n",
       "      <td>167352</td>\n",
       "      <td>Canada</td>\n",
       "      <td>Saint Catharines</td>\n",
       "      <td>43.159374</td>\n",
       "      <td>-79.246863</td>\n",
       "    </tr>\n",
       "  </tbody>\n",
       "</table>\n",
       "</div>"
      ],
      "text/plain": [
       "                     date                               doi  Pub_code  \\\n",
       "1046  2017-01-01 11:12:43           10.1093/jmedent/35.1.71     18048   \n",
       "1047  2017-01-01 12:15:09            10.1089/vbz.2004.4.190     18048   \n",
       "1048  2017-01-01 16:22:15  10.1111/j.1365-2915.2011.00962.x     18048   \n",
       "1049  2017-01-01 18:53:48          10.1177/1087057108319864     39529   \n",
       "1050  2017-01-02 19:37:36  10.1046/j.1601-6335.2003.00268.x    115799   \n",
       "\n",
       "      User_code country              city        lat       long  \n",
       "1046      25846  Canada  Saint Catharines  43.159374 -79.246863  \n",
       "1047      25846  Canada  Saint Catharines  43.159374 -79.246863  \n",
       "1048      25846  Canada  Saint Catharines  43.159374 -79.246863  \n",
       "1049      57891  Canada  Saint Catharines  43.159374 -79.246863  \n",
       "1050     167352  Canada  Saint Catharines  43.159374 -79.246863  "
      ]
     },
     "execution_count": 2,
     "metadata": {},
     "output_type": "execute_result"
    }
   ],
   "source": [
    "import pandas as pd\n",
    "import numpy as np\n",
    "\n",
    "f = open(\"all_niagara_use.tab\", \"r\")\n",
    "niagara_data = pd.read_table(f)\n",
    "\n",
    "niagara_data.columns = [\"date\",\"doi\",\"Pub_code\",\"User_code\",\"country\",\"city\",\"lat\",\"long\"]\n",
    "niagara_data = niagara_data.sort_values(by = \"date\", ascending = True)\n",
    "niagara_data.head()"
   ]
  },
  {
   "cell_type": "markdown",
   "metadata": {},
   "source": [
    "How Many papers were downloaded?"
   ]
  },
  {
   "cell_type": "code",
   "execution_count": null,
   "metadata": {},
   "outputs": [],
   "source": []
  },
  {
   "cell_type": "markdown",
   "metadata": {},
   "source": [
    "What is the amount of revenue lost assuming papers are about 50 each, what about 30?"
   ]
  },
  {
   "cell_type": "code",
   "execution_count": null,
   "metadata": {},
   "outputs": [],
   "source": []
  },
  {
   "cell_type": "markdown",
   "metadata": {},
   "source": [
    "How Many unique users are there?"
   ]
  },
  {
   "cell_type": "code",
   "execution_count": null,
   "metadata": {},
   "outputs": [],
   "source": []
  },
  {
   "cell_type": "markdown",
   "metadata": {},
   "source": [
    "How Many unique papers were downloaded?"
   ]
  },
  {
   "cell_type": "code",
   "execution_count": null,
   "metadata": {},
   "outputs": [],
   "source": []
  },
  {
   "cell_type": "markdown",
   "metadata": {},
   "source": [
    "What is the average number of papers downloaded by each user?"
   ]
  },
  {
   "cell_type": "code",
   "execution_count": null,
   "metadata": {},
   "outputs": [],
   "source": []
  },
  {
   "cell_type": "markdown",
   "metadata": {},
   "source": []
  }
 ],
 "metadata": {
  "kernelspec": {
   "display_name": "Python 3",
   "language": "python",
   "name": "python3"
  },
  "language_info": {
   "codemirror_mode": {
    "name": "ipython",
    "version": 3
   },
   "file_extension": ".py",
   "mimetype": "text/x-python",
   "name": "python",
   "nbconvert_exporter": "python",
   "pygments_lexer": "ipython3",
   "version": "3.6.4"
  }
 },
 "nbformat": 4,
 "nbformat_minor": 2
}
