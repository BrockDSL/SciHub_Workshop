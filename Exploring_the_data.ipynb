{
 "cells": [
  {
   "cell_type": "markdown",
   "metadata": {},
   "source": [
    "# St Catharines Sci-Hub Usage 2017\n",
    "\n",
    "As discussed SciHub is a resource that a person can use to download Academic PDFs. There is some controversy with it however. Periodically the owner of the site releases usage logs that curious people like us can review. The most recent [log file](https://zenodo.org/record/1158301) is from 2017\n",
    "\n",
    "We'll be collaborating via a shared [Etherpad](http://139.57.126.30:32780/p/sci_hub_workshop)"
   ]
  },
  {
   "cell_type": "markdown",
   "metadata": {},
   "source": [
    "# Loading Prerequisites\n",
    "\n",
    "Our first step is to load in some modules that we will need."
   ]
  },
  {
   "cell_type": "code",
   "execution_count": null,
   "metadata": {},
   "outputs": [],
   "source": [
    "import pandas as pd\n",
    "import numpy as np"
   ]
  },
  {
   "cell_type": "markdown",
   "metadata": {},
   "source": [
    "# Pandas"
   ]
  },
  {
   "cell_type": "markdown",
   "metadata": {},
   "source": [
    "## Load usage file into a Pandas dataframe\n",
    "\n",
    "We'll also tell it what the columns of our data are"
   ]
  },
  {
   "cell_type": "code",
   "execution_count": null,
   "metadata": {},
   "outputs": [],
   "source": [
    "f = open(\"\", \"r\")\n",
    "data = pd.read_table(f)\n",
    "\n",
    "data.columns = [\"date\",\"doi\",\"IP_code\",\"User_code\",\"country\",\"city\",\"lat\",\"long\"]\n",
    "data = data.sort_values(by = \"date\", ascending = True)"
   ]
  },
  {
   "cell_type": "markdown",
   "metadata": {},
   "source": [
    "## How can we view the first 5 entries in the data using head()"
   ]
  },
  {
   "cell_type": "code",
   "execution_count": null,
   "metadata": {},
   "outputs": [],
   "source": []
  },
  {
   "cell_type": "markdown",
   "metadata": {},
   "source": [
    "## How can we view just the User_code column?"
   ]
  },
  {
   "cell_type": "code",
   "execution_count": null,
   "metadata": {},
   "outputs": [],
   "source": []
  },
  {
   "cell_type": "markdown",
   "metadata": {},
   "source": [
    "## Which paper was downloaded the most?"
   ]
  },
  {
   "cell_type": "code",
   "execution_count": null,
   "metadata": {},
   "outputs": [],
   "source": [
    "top_doi = data.groupby().count().sort_values(by = \"date\", ascending = False)[:100].date\n",
    "top_doi.head()"
   ]
  },
  {
   "cell_type": "markdown",
   "metadata": {},
   "source": [
    "## Who was the busiest user?"
   ]
  },
  {
   "cell_type": "code",
   "execution_count": null,
   "metadata": {},
   "outputs": [],
   "source": [
    "top_users = data.groupby().count().sort_values(by = \"date\", ascending = False).date\n",
    "top_users.head(5)"
   ]
  },
  {
   "cell_type": "markdown",
   "metadata": {},
   "source": [
    "## Can we find out what papers our busiest user downloaded and what city they are in?"
   ]
  },
  {
   "cell_type": "code",
   "execution_count": null,
   "metadata": {},
   "outputs": [],
   "source": [
    "top_user = data[data[] == ]\n",
    "top_user"
   ]
  },
  {
   "cell_type": "markdown",
   "metadata": {},
   "source": [
    "## Can we figure out which publishers our busiest user downloaded from?"
   ]
  },
  {
   "cell_type": "code",
   "execution_count": null,
   "metadata": {},
   "outputs": [],
   "source": []
  },
  {
   "cell_type": "markdown",
   "metadata": {},
   "source": [
    "## Can we find out what publishers were downloaded the most?"
   ]
  },
  {
   "cell_type": "code",
   "execution_count": null,
   "metadata": {},
   "outputs": [],
   "source": [
    "top_publishers = data.groupby().count().sort_values(by = \"date\", ascending = False).date\n",
    "top_publishers.head(5)"
   ]
  },
  {
   "cell_type": "markdown",
   "metadata": {},
   "source": [
    "# Visualing with MatplotLib"
   ]
  },
  {
   "cell_type": "markdown",
   "metadata": {},
   "source": [
    "## Can we plot out how many papers each user has downloaded?"
   ]
  },
  {
   "cell_type": "code",
   "execution_count": null,
   "metadata": {},
   "outputs": [],
   "source": [
    "%matplotlib inline\n",
    "import matplotlib.pyplot as plt\n",
    "plt.bar(top_users,top_users, align='center', alpha=0.5)\n",
    "plt.ylabel(\"Downloads\")\n",
    "plt.xlabel(\"User\")\n",
    "plt.title(\"Downloads by User\")\n",
    "plt.show()\n",
    "print(type(top_users))"
   ]
  },
  {
   "cell_type": "markdown",
   "metadata": {},
   "source": []
  },
  {
   "cell_type": "markdown",
   "metadata": {},
   "source": [
    "# Plotting out everything on a map of Niagara\n",
    "\n",
    "Some times we can use pre-existing tools to do some of the visualizations for us. This often makes our life easier. See if you can use [Heatmapper](http://www1.heatmapper.ca/geocoordinate/) to plot out a map of all of the Niagara Usage of SciHub. Place a link to your creation in the Etherpad. The site is expecting a file that just has lines that look like this:\n",
    "\n",
    "_Longitude,Latitude_\n",
    "\n",
    "How can we create a file has just this information?\n"
   ]
  },
  {
   "cell_type": "code",
   "execution_count": null,
   "metadata": {},
   "outputs": [],
   "source": [
    "points_file = open(\"all_niagara_use.tab\", \"r\")\n",
    "\n",
    "viz_map = pd.read_table(points_file)\n",
    "viz_map.columns = [\"date\",\"doi\",\"IP_code\",\"User_code\",\"country\",\"city\",\"Latitude\",\"Longitude\"]\n",
    "viz_map.groupby([\"Longitude\",\"Latitude\"]).count()\n"
   ]
  },
  {
   "cell_type": "markdown",
   "metadata": {},
   "source": [
    "# Let's do it all again with different data sets!"
   ]
  },
  {
   "cell_type": "code",
   "execution_count": null,
   "metadata": {},
   "outputs": [],
   "source": []
  }
 ],
 "metadata": {
  "kernelspec": {
   "display_name": "Python 3",
   "language": "python",
   "name": "python3"
  },
  "language_info": {
   "codemirror_mode": {
    "name": "ipython",
    "version": 3
   },
   "file_extension": ".py",
   "mimetype": "text/x-python",
   "name": "python",
   "nbconvert_exporter": "python",
   "pygments_lexer": "ipython3",
   "version": "3.6.4"
  }
 },
 "nbformat": 4,
 "nbformat_minor": 2
}
