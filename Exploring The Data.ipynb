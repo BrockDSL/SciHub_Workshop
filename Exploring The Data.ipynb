{
 "cells": [
  {
   "cell_type": "markdown",
   "metadata": {},
   "source": [
    "![dsl_logo](dsl_logo.png)\n",
    "\n",
    "\n",
    "# Sci Hub Usage in Niagara\n",
    "## A Data Science case study\n",
    "\n",
    "This tutorial is meant to give you an introduction to the main ideas behind data science by analyzing usage logs of the Sci-Hub website in the Niagara region using the Python programming language. This tutorial is presented in a Jupyter notebook that blends code into web pages. Please feel free to run through this on your own.\n",
    "\n",
    "Jupyter Notebooks are pretty easy to use. They have code 'cells' that allow you to enter and run code. Let's demonstrate. Click in the box below and hit the _Run_ button on the left side. (It looks like a circle with a triangle in it) \n",
    "\n"
   ]
  },
  {
   "cell_type": "code",
   "execution_count": 2,
   "metadata": {},
   "outputs": [
    {
     "name": "stdout",
     "output_type": "stream",
     "text": [
      "Welcome to our Data Science Tutorial\n"
     ]
    }
   ],
   "source": [
    "#Let's just print a basic message\n",
    "print(\"Welcome to our Data Science Tutorial\")"
   ]
  },
  {
   "cell_type": "markdown",
   "metadata": {},
   "source": [
    "## Background info\n",
    "\n",
    "\n",
    "![scihub_log](https://upload.wikimedia.org/wikipedia/fr/c/c4/Sci-Hub_logo.png)\n",
    "\n",
    "SciHub is a resource that a person can use to download Academic PDFs. There is some controversy with it however. Periodically the owner of the site releases usage logs that curious people like us can review. The most recent [log file](https://zenodo.org/record/1158301) is from 2017. We are going to explore this data to see if we can spot anything interesting. At the same time we're going to learn some [Python](https://www.python.org/), in particular the [Panadas Library](https://pandas.pydata.org/) and a visualization library called [Matplotlib](https://matplotlib.org/)\n"
   ]
  },
  {
   "cell_type": "markdown",
   "metadata": {},
   "source": [
    "## Loading the Libraries and the data\n",
    "\n",
    "Our first step is to get Python ready and to load the datafile. The next cell will take care of that."
   ]
  },
  {
   "cell_type": "code",
   "execution_count": 1,
   "metadata": {},
   "outputs": [],
   "source": [
    "#Our Libraries\n",
    "import pandas as pd\n",
    "\n",
    "%matplotlib inline\n",
    "import matplotlib.pyplot as plt\n",
    "\n",
    "#Loading our Data\n",
    "f = open(\"sc_use.tab\", \"r\")\n",
    "data = pd.read_csv(\"sc_use.tab\",sep=\"\\t\")\n",
    "\n",
    "#Tell pandas what col\n",
    "data.columns = [\"date\",\"doi\",\"Pub_code\",\"User_code\",\"country\",\"city\",\"lat\",\"long\"]\n",
    "data = data.sort_values(by = \"date\", ascending = False)"
   ]
  },
  {
   "cell_type": "markdown",
   "metadata": {},
   "source": [
    "## Pandas"
   ]
  },
  {
   "cell_type": "markdown",
   "metadata": {},
   "source": [
    "### Load usage file into a Pandas dataframe\n",
    "\n",
    "We'll also tell it what the columns of our data are"
   ]
  },
  {
   "cell_type": "code",
   "execution_count": 2,
   "metadata": {},
   "outputs": [],
   "source": [
    "\n"
   ]
  },
  {
   "cell_type": "markdown",
   "metadata": {},
   "source": [
    "### How can we view the first 10 entries in the data using head()"
   ]
  },
  {
   "cell_type": "code",
   "execution_count": 3,
   "metadata": {
    "scrolled": true
   },
   "outputs": [
    {
     "data": {
      "text/html": [
       "<div>\n",
       "<style scoped>\n",
       "    .dataframe tbody tr th:only-of-type {\n",
       "        vertical-align: middle;\n",
       "    }\n",
       "\n",
       "    .dataframe tbody tr th {\n",
       "        vertical-align: top;\n",
       "    }\n",
       "\n",
       "    .dataframe thead th {\n",
       "        text-align: right;\n",
       "    }\n",
       "</style>\n",
       "<table border=\"1\" class=\"dataframe\">\n",
       "  <thead>\n",
       "    <tr style=\"text-align: right;\">\n",
       "      <th></th>\n",
       "      <th>date</th>\n",
       "      <th>doi</th>\n",
       "      <th>Pub_code</th>\n",
       "      <th>User_code</th>\n",
       "      <th>country</th>\n",
       "      <th>city</th>\n",
       "      <th>lat</th>\n",
       "      <th>long</th>\n",
       "    </tr>\n",
       "  </thead>\n",
       "  <tbody>\n",
       "    <tr>\n",
       "      <td>3744</td>\n",
       "      <td>2017-12-30 02:11:20</td>\n",
       "      <td>10.1109/MSP.2014.2329397</td>\n",
       "      <td>17149789</td>\n",
       "      <td>46591555</td>\n",
       "      <td>Canada</td>\n",
       "      <td>Saint Catharines</td>\n",
       "      <td>43.159374</td>\n",
       "      <td>-79.246863</td>\n",
       "    </tr>\n",
       "    <tr>\n",
       "      <td>3743</td>\n",
       "      <td>2017-12-29 01:50:42</td>\n",
       "      <td>10.1111/j.1462-2920.2012.02747.x</td>\n",
       "      <td>7765001</td>\n",
       "      <td>46417065</td>\n",
       "      <td>Canada</td>\n",
       "      <td>Saint Catharines</td>\n",
       "      <td>43.159374</td>\n",
       "      <td>-79.246863</td>\n",
       "    </tr>\n",
       "    <tr>\n",
       "      <td>3742</td>\n",
       "      <td>2017-12-27 23:46:19</td>\n",
       "      <td>10.1016/S0892-0362(00)00066-0</td>\n",
       "      <td>17075631</td>\n",
       "      <td>46234116</td>\n",
       "      <td>Canada</td>\n",
       "      <td>Saint Catharines</td>\n",
       "      <td>43.159374</td>\n",
       "      <td>-79.246863</td>\n",
       "    </tr>\n",
       "    <tr>\n",
       "      <td>3741</td>\n",
       "      <td>2017-12-27 09:39:34</td>\n",
       "      <td>10.1038/nnano.2015.251</td>\n",
       "      <td>1099488</td>\n",
       "      <td>45604542</td>\n",
       "      <td>Canada</td>\n",
       "      <td>Saint Catharines</td>\n",
       "      <td>43.159374</td>\n",
       "      <td>-79.246863</td>\n",
       "    </tr>\n",
       "    <tr>\n",
       "      <td>3740</td>\n",
       "      <td>2017-12-23 10:09:18</td>\n",
       "      <td>10.1063/1.2210932</td>\n",
       "      <td>15553487</td>\n",
       "      <td>45604542</td>\n",
       "      <td>Canada</td>\n",
       "      <td>Saint Catharines</td>\n",
       "      <td>43.159374</td>\n",
       "      <td>-79.246863</td>\n",
       "    </tr>\n",
       "  </tbody>\n",
       "</table>\n",
       "</div>"
      ],
      "text/plain": [
       "                     date                               doi  Pub_code  \\\n",
       "3744  2017-12-30 02:11:20          10.1109/MSP.2014.2329397  17149789   \n",
       "3743  2017-12-29 01:50:42  10.1111/j.1462-2920.2012.02747.x   7765001   \n",
       "3742  2017-12-27 23:46:19     10.1016/S0892-0362(00)00066-0  17075631   \n",
       "3741  2017-12-27 09:39:34            10.1038/nnano.2015.251   1099488   \n",
       "3740  2017-12-23 10:09:18                 10.1063/1.2210932  15553487   \n",
       "\n",
       "      User_code country              city        lat       long  \n",
       "3744   46591555  Canada  Saint Catharines  43.159374 -79.246863  \n",
       "3743   46417065  Canada  Saint Catharines  43.159374 -79.246863  \n",
       "3742   46234116  Canada  Saint Catharines  43.159374 -79.246863  \n",
       "3741   45604542  Canada  Saint Catharines  43.159374 -79.246863  \n",
       "3740   45604542  Canada  Saint Catharines  43.159374 -79.246863  "
      ]
     },
     "execution_count": 3,
     "metadata": {},
     "output_type": "execute_result"
    }
   ],
   "source": [
    "data.head()\n"
   ]
  },
  {
   "cell_type": "markdown",
   "metadata": {},
   "source": [
    "### How can we view just the User_code column?"
   ]
  },
  {
   "cell_type": "code",
   "execution_count": null,
   "metadata": {
    "scrolled": false
   },
   "outputs": [],
   "source": [
    "data['User_code']\n"
   ]
  },
  {
   "cell_type": "markdown",
   "metadata": {},
   "source": [
    "### How can we view just the DOI column?"
   ]
  },
  {
   "cell_type": "code",
   "execution_count": null,
   "metadata": {
    "scrolled": true
   },
   "outputs": [],
   "source": []
  },
  {
   "cell_type": "markdown",
   "metadata": {},
   "source": [
    "### How many papers were downloaded?"
   ]
  },
  {
   "cell_type": "code",
   "execution_count": null,
   "metadata": {},
   "outputs": [],
   "source": [
    "data.doi.count()\n"
   ]
  },
  {
   "cell_type": "markdown",
   "metadata": {},
   "source": [
    "### If each paper on average cost 30 how much revenue was 'lost'\n",
    "\n",
    "Hint: * is the multiplication operator"
   ]
  },
  {
   "cell_type": "code",
   "execution_count": null,
   "metadata": {
    "scrolled": true
   },
   "outputs": [],
   "source": []
  },
  {
   "cell_type": "markdown",
   "metadata": {},
   "source": [
    "### What about 50?"
   ]
  },
  {
   "cell_type": "code",
   "execution_count": null,
   "metadata": {},
   "outputs": [],
   "source": []
  },
  {
   "cell_type": "markdown",
   "metadata": {},
   "source": [
    "### How many unique users are there?\n",
    "\n",
    "- Introducing the `nunique()` function"
   ]
  },
  {
   "cell_type": "code",
   "execution_count": null,
   "metadata": {
    "scrolled": true
   },
   "outputs": [],
   "source": [
    "data.User_code.nunique()\n"
   ]
  },
  {
   "cell_type": "markdown",
   "metadata": {},
   "source": [
    "### Who are those unique users?\n",
    "\n",
    "- Introducing the `unique()` function"
   ]
  },
  {
   "cell_type": "code",
   "execution_count": null,
   "metadata": {
    "scrolled": true
   },
   "outputs": [],
   "source": [
    "data.User_code.unique()\n"
   ]
  },
  {
   "cell_type": "markdown",
   "metadata": {},
   "source": [
    "### How many unique papers were downloaded?"
   ]
  },
  {
   "cell_type": "code",
   "execution_count": null,
   "metadata": {},
   "outputs": [],
   "source": []
  },
  {
   "cell_type": "markdown",
   "metadata": {},
   "source": [
    "### What is the average number of papers downloaded by each user?\n",
    "\n",
    "- We'll do some analysis by creating some values and some math"
   ]
  },
  {
   "cell_type": "code",
   "execution_count": null,
   "metadata": {},
   "outputs": [],
   "source": []
  },
  {
   "cell_type": "markdown",
   "metadata": {},
   "source": [
    "### Which paper was downloaded the most?\n",
    "\n",
    "- We're introducing the `.count()` function and `sort_values()` function\n"
   ]
  },
  {
   "cell_type": "code",
   "execution_count": null,
   "metadata": {
    "scrolled": false
   },
   "outputs": [],
   "source": [
    "top_doi = data.groupby(\"\").count().sort_values(by = \"date\", ascending = False).date\n",
    "top_doi.head()\n"
   ]
  },
  {
   "cell_type": "markdown",
   "metadata": {},
   "source": [
    "### Who was the busiest user?"
   ]
  },
  {
   "cell_type": "code",
   "execution_count": null,
   "metadata": {
    "scrolled": true
   },
   "outputs": [],
   "source": [
    "top_users = data.groupby(\"\").count().sort_values(by = \"date\", ascending = False).date\n",
    "top_users.head()\n"
   ]
  },
  {
   "cell_type": "markdown",
   "metadata": {},
   "source": [
    "### Which publisher was downloaded the most?\n",
    "\n",
    "- When you have the correct id you can look it up in this [spreadsheet](publisher_DOI_prefixes.csv)"
   ]
  },
  {
   "cell_type": "code",
   "execution_count": null,
   "metadata": {},
   "outputs": [],
   "source": [
    "top_pubs = data.groupby(\"\").count().sort_values(by = \"date\", ascending = False).date\n",
    "top_pubs.head()"
   ]
  },
  {
   "cell_type": "markdown",
   "metadata": {},
   "source": [
    "## We can select values by comparing them with conditionals\n",
    "\n",
    "- Introducing selecting by column values with the `loc[]`\n",
    "- Say we want to find out all the downloads during the month of December"
   ]
  },
  {
   "cell_type": "code",
   "execution_count": 4,
   "metadata": {},
   "outputs": [
    {
     "data": {
      "text/html": [
       "<div>\n",
       "<style scoped>\n",
       "    .dataframe tbody tr th:only-of-type {\n",
       "        vertical-align: middle;\n",
       "    }\n",
       "\n",
       "    .dataframe tbody tr th {\n",
       "        vertical-align: top;\n",
       "    }\n",
       "\n",
       "    .dataframe thead th {\n",
       "        text-align: right;\n",
       "    }\n",
       "</style>\n",
       "<table border=\"1\" class=\"dataframe\">\n",
       "  <thead>\n",
       "    <tr style=\"text-align: right;\">\n",
       "      <th></th>\n",
       "      <th>date</th>\n",
       "      <th>doi</th>\n",
       "      <th>Pub_code</th>\n",
       "      <th>User_code</th>\n",
       "      <th>country</th>\n",
       "      <th>city</th>\n",
       "      <th>lat</th>\n",
       "      <th>long</th>\n",
       "    </tr>\n",
       "  </thead>\n",
       "  <tbody>\n",
       "    <tr>\n",
       "      <td>3744</td>\n",
       "      <td>2017-12-30 02:11:20</td>\n",
       "      <td>10.1109/MSP.2014.2329397</td>\n",
       "      <td>17149789</td>\n",
       "      <td>46591555</td>\n",
       "      <td>Canada</td>\n",
       "      <td>Saint Catharines</td>\n",
       "      <td>43.159374</td>\n",
       "      <td>-79.246863</td>\n",
       "    </tr>\n",
       "    <tr>\n",
       "      <td>3743</td>\n",
       "      <td>2017-12-29 01:50:42</td>\n",
       "      <td>10.1111/j.1462-2920.2012.02747.x</td>\n",
       "      <td>7765001</td>\n",
       "      <td>46417065</td>\n",
       "      <td>Canada</td>\n",
       "      <td>Saint Catharines</td>\n",
       "      <td>43.159374</td>\n",
       "      <td>-79.246863</td>\n",
       "    </tr>\n",
       "    <tr>\n",
       "      <td>3742</td>\n",
       "      <td>2017-12-27 23:46:19</td>\n",
       "      <td>10.1016/S0892-0362(00)00066-0</td>\n",
       "      <td>17075631</td>\n",
       "      <td>46234116</td>\n",
       "      <td>Canada</td>\n",
       "      <td>Saint Catharines</td>\n",
       "      <td>43.159374</td>\n",
       "      <td>-79.246863</td>\n",
       "    </tr>\n",
       "    <tr>\n",
       "      <td>3741</td>\n",
       "      <td>2017-12-27 09:39:34</td>\n",
       "      <td>10.1038/nnano.2015.251</td>\n",
       "      <td>1099488</td>\n",
       "      <td>45604542</td>\n",
       "      <td>Canada</td>\n",
       "      <td>Saint Catharines</td>\n",
       "      <td>43.159374</td>\n",
       "      <td>-79.246863</td>\n",
       "    </tr>\n",
       "    <tr>\n",
       "      <td>3740</td>\n",
       "      <td>2017-12-23 10:09:18</td>\n",
       "      <td>10.1063/1.2210932</td>\n",
       "      <td>15553487</td>\n",
       "      <td>45604542</td>\n",
       "      <td>Canada</td>\n",
       "      <td>Saint Catharines</td>\n",
       "      <td>43.159374</td>\n",
       "      <td>-79.246863</td>\n",
       "    </tr>\n",
       "    <tr>\n",
       "      <td>...</td>\n",
       "      <td>...</td>\n",
       "      <td>...</td>\n",
       "      <td>...</td>\n",
       "      <td>...</td>\n",
       "      <td>...</td>\n",
       "      <td>...</td>\n",
       "      <td>...</td>\n",
       "      <td>...</td>\n",
       "    </tr>\n",
       "    <tr>\n",
       "      <td>3643</td>\n",
       "      <td>2017-12-02 00:42:08</td>\n",
       "      <td>10.1093/bib/bbs086</td>\n",
       "      <td>214009</td>\n",
       "      <td>22820070</td>\n",
       "      <td>Canada</td>\n",
       "      <td>Saint Catharines</td>\n",
       "      <td>43.159374</td>\n",
       "      <td>-79.246863</td>\n",
       "    </tr>\n",
       "    <tr>\n",
       "      <td>3642</td>\n",
       "      <td>2017-12-01 20:35:58</td>\n",
       "      <td>10.1080/08870446.2015.1082561</td>\n",
       "      <td>3749878</td>\n",
       "      <td>42054719</td>\n",
       "      <td>Canada</td>\n",
       "      <td>Saint Catharines</td>\n",
       "      <td>43.159374</td>\n",
       "      <td>-79.246863</td>\n",
       "    </tr>\n",
       "    <tr>\n",
       "      <td>3641</td>\n",
       "      <td>2017-12-01 20:18:36</td>\n",
       "      <td>10.1021/op400343c</td>\n",
       "      <td>1099488</td>\n",
       "      <td>43040900</td>\n",
       "      <td>Canada</td>\n",
       "      <td>Saint Catharines</td>\n",
       "      <td>43.159374</td>\n",
       "      <td>-79.246863</td>\n",
       "    </tr>\n",
       "    <tr>\n",
       "      <td>3640</td>\n",
       "      <td>2017-12-01 18:28:39</td>\n",
       "      <td>10.1007/128_2011_133</td>\n",
       "      <td>340402</td>\n",
       "      <td>42453120</td>\n",
       "      <td>Canada</td>\n",
       "      <td>Saint Catharines</td>\n",
       "      <td>43.159374</td>\n",
       "      <td>-79.246863</td>\n",
       "    </tr>\n",
       "    <tr>\n",
       "      <td>3639</td>\n",
       "      <td>2017-12-01 18:26:19</td>\n",
       "      <td>10.1007/978-3-642-25529-8</td>\n",
       "      <td>340402</td>\n",
       "      <td>42453120</td>\n",
       "      <td>Canada</td>\n",
       "      <td>Saint Catharines</td>\n",
       "      <td>43.159374</td>\n",
       "      <td>-79.246863</td>\n",
       "    </tr>\n",
       "  </tbody>\n",
       "</table>\n",
       "<p>106 rows × 8 columns</p>\n",
       "</div>"
      ],
      "text/plain": [
       "                     date                               doi  Pub_code  \\\n",
       "3744  2017-12-30 02:11:20          10.1109/MSP.2014.2329397  17149789   \n",
       "3743  2017-12-29 01:50:42  10.1111/j.1462-2920.2012.02747.x   7765001   \n",
       "3742  2017-12-27 23:46:19     10.1016/S0892-0362(00)00066-0  17075631   \n",
       "3741  2017-12-27 09:39:34            10.1038/nnano.2015.251   1099488   \n",
       "3740  2017-12-23 10:09:18                 10.1063/1.2210932  15553487   \n",
       "...                   ...                               ...       ...   \n",
       "3643  2017-12-02 00:42:08                10.1093/bib/bbs086    214009   \n",
       "3642  2017-12-01 20:35:58     10.1080/08870446.2015.1082561   3749878   \n",
       "3641  2017-12-01 20:18:36                 10.1021/op400343c   1099488   \n",
       "3640  2017-12-01 18:28:39              10.1007/128_2011_133    340402   \n",
       "3639  2017-12-01 18:26:19         10.1007/978-3-642-25529-8    340402   \n",
       "\n",
       "      User_code country              city        lat       long  \n",
       "3744   46591555  Canada  Saint Catharines  43.159374 -79.246863  \n",
       "3743   46417065  Canada  Saint Catharines  43.159374 -79.246863  \n",
       "3742   46234116  Canada  Saint Catharines  43.159374 -79.246863  \n",
       "3741   45604542  Canada  Saint Catharines  43.159374 -79.246863  \n",
       "3740   45604542  Canada  Saint Catharines  43.159374 -79.246863  \n",
       "...         ...     ...               ...        ...        ...  \n",
       "3643   22820070  Canada  Saint Catharines  43.159374 -79.246863  \n",
       "3642   42054719  Canada  Saint Catharines  43.159374 -79.246863  \n",
       "3641   43040900  Canada  Saint Catharines  43.159374 -79.246863  \n",
       "3640   42453120  Canada  Saint Catharines  43.159374 -79.246863  \n",
       "3639   42453120  Canada  Saint Catharines  43.159374 -79.246863  \n",
       "\n",
       "[106 rows x 8 columns]"
      ]
     },
     "execution_count": 4,
     "metadata": {},
     "output_type": "execute_result"
    }
   ],
   "source": [
    "data.loc[data[\"date\"] > \"2017-11-30 23:59:59\"]"
   ]
  },
  {
   "cell_type": "markdown",
   "metadata": {},
   "source": [
    "### Can we figure out which publishers our busiest user downloaded from?\n"
   ]
  },
  {
   "cell_type": "code",
   "execution_count": null,
   "metadata": {
    "scrolled": false
   },
   "outputs": [],
   "source": [
    "top_user_pub = data.loc[data[\"\"] == ].groupby(\"\").count()\n",
    "top_user_pub.head()"
   ]
  },
  {
   "cell_type": "markdown",
   "metadata": {},
   "source": [
    "### What can we say about our top user?"
   ]
  },
  {
   "cell_type": "markdown",
   "metadata": {},
   "source": []
  },
  {
   "cell_type": "markdown",
   "metadata": {},
   "source": [
    "### Who are the top ten users that downloaded from this publisher?"
   ]
  },
  {
   "cell_type": "code",
   "execution_count": null,
   "metadata": {
    "scrolled": true
   },
   "outputs": [],
   "source": [
    "who_pub = data.loc[data[\"\"] == ].groupby(\"\").count().sort_values(by = \"date\", ascending = False)\n",
    "who_pub.head(10)\n"
   ]
  },
  {
   "cell_type": "markdown",
   "metadata": {},
   "source": [
    "### What can we say about our most downloaded publisher?"
   ]
  },
  {
   "cell_type": "markdown",
   "metadata": {},
   "source": []
  },
  {
   "cell_type": "markdown",
   "metadata": {},
   "source": [
    "# Visualing with MatplotLib\n",
    "First we import some extra code"
   ]
  },
  {
   "cell_type": "code",
   "execution_count": 5,
   "metadata": {},
   "outputs": [],
   "source": []
  },
  {
   "cell_type": "markdown",
   "metadata": {},
   "source": [
    "### How many papers do users download?\n",
    "\n",
    "Well plot out a [histogram](https://en.wikipedia.org/wiki/Histogram) of user downloads amounts."
   ]
  },
  {
   "cell_type": "code",
   "execution_count": 6,
   "metadata": {},
   "outputs": [
    {
     "data": {
      "text/plain": [
       "User_code\n",
       "523173     184\n",
       "6294894    178\n",
       "5154801    144\n",
       "304463     138\n",
       "333551     138\n",
       "Name: doi, dtype: int64"
      ]
     },
     "execution_count": 6,
     "metadata": {},
     "output_type": "execute_result"
    }
   ],
   "source": [
    "#Let's create a new dataframe \n",
    "\n",
    "user_downloads = data.groupby(\"User_code\").count().sort_values( by = \"doi\",ascending = False).doi\n",
    "user_downloads.head()"
   ]
  },
  {
   "cell_type": "code",
   "execution_count": 7,
   "metadata": {},
   "outputs": [
    {
     "data": {
      "image/png": "[encoded data removed]",
      "text/plain": [
       "<Figure size 432x288 with 1 Axes>"
      ]
     },
     "metadata": {
      "needs_background": "light"
     },
     "output_type": "display_data"
    }
   ],
   "source": [
    "\n",
    "#Let's plot it\n",
    "\n",
    "plt.hist(user_downloads, 200)\n",
    "plt.ylabel(\"# of Users\")\n",
    "plt.xlabel(\"# of Downloads\")\n",
    "plt.title(\"Downloads Frequency\")\n",
    "plt.show()\n"
   ]
  },
  {
   "cell_type": "markdown",
   "metadata": {},
   "source": [
    "### Can we plot out how many people download from the different publishers?\n",
    "\n",
    "Can we make a histogram for this data?"
   ]
  },
  {
   "cell_type": "code",
   "execution_count": 8,
   "metadata": {},
   "outputs": [
    {
     "data": {
      "text/plain": [
       "Pub_code\n",
       "340402     275\n",
       "115799     269\n",
       "266248     139\n",
       "1099488    101\n",
       "721671      81\n",
       "Name: doi, dtype: int64"
      ]
     },
     "execution_count": 8,
     "metadata": {},
     "output_type": "execute_result"
    }
   ],
   "source": [
    "#Let's create a new dataframe\n",
    "pub_downloads = data.groupby(\"Pub_code\").count().sort_values( by = \"doi\",ascending = False).doi\n",
    "pub_downloads.head()\n"
   ]
  },
  {
   "cell_type": "code",
   "execution_count": 20,
   "metadata": {
    "scrolled": true
   },
   "outputs": [
    {
     "data": {
      "image/png": "[encoded data removed]",
      "text/plain": [
       "<Figure size 432x288 with 1 Axes>"
      ]
     },
     "metadata": {},
     "output_type": "display_data"
    }
   ],
   "source": [
    "\n",
    "#Let's plot it\n",
    "\n",
    "plt.pie(pub_downloads[0:50], shadow=True)\n",
    "#plt.ylabel(\"\")\n",
    "#plt.xlabel(\"\")\n",
    "#plt.title(\"\")\n",
    "plt.show()"
   ]
  },
  {
   "cell_type": "markdown",
   "metadata": {},
   "source": [
    "### Repeat the exercise using other data filess\n",
    "\n",
    "(hit the back button to see the files)\n",
    "\n",
    "`another_city` - and pick the city of your choice\n",
    "\n",
    "`all_data` - to look at all of the niagara region"
   ]
  }
 ],
 "metadata": {
  "kernelspec": {
   "display_name": "Python 3",
   "language": "python",
   "name": "python3"
  },
  "language_info": {
   "codemirror_mode": {
    "name": "ipython",
    "version": 3
   },
   "file_extension": ".py",
   "mimetype": "text/x-python",
   "name": "python",
   "nbconvert_exporter": "python",
   "pygments_lexer": "ipython3",
   "version": "3.7.4"
  }
 },
 "nbformat": 4,
 "nbformat_minor": 2
}
